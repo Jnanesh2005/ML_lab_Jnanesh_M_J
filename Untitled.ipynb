{
 "cells": [
  {
   "cell_type": "code",
   "execution_count": 1,
   "id": "a4ff521d",
   "metadata": {},
   "outputs": [
    {
     "name": "stdout",
     "output_type": "stream",
     "text": [
      "Requirement already satisfied: numpy in c:\\users\\user\\anaconda3\\lib\\site-packages (1.24.3)\n",
      "Requirement already satisfied: scikit-learn in c:\\users\\user\\anaconda3\\lib\\site-packages (1.3.0)\n",
      "Requirement already satisfied: pandas in c:\\users\\user\\anaconda3\\lib\\site-packages (1.5.3)\n",
      "Requirement already satisfied: scipy>=1.5.0 in c:\\users\\user\\anaconda3\\lib\\site-packages (from scikit-learn) (1.10.1)\n",
      "Requirement already satisfied: joblib>=1.1.1 in c:\\users\\user\\anaconda3\\lib\\site-packages (from scikit-learn) (1.2.0)\n",
      "Requirement already satisfied: threadpoolctl>=2.0.0 in c:\\users\\user\\anaconda3\\lib\\site-packages (from scikit-learn) (2.2.0)\n",
      "Requirement already satisfied: python-dateutil>=2.8.1 in c:\\users\\user\\anaconda3\\lib\\site-packages (from pandas) (2.8.2)\n",
      "Requirement already satisfied: pytz>=2020.1 in c:\\users\\user\\anaconda3\\lib\\site-packages (from pandas) (2022.7)\n",
      "Requirement already satisfied: six>=1.5 in c:\\users\\user\\anaconda3\\lib\\site-packages (from python-dateutil>=2.8.1->pandas) (1.16.0)\n"
     ]
    }
   ],
   "source": [
    "!pip install numpy scikit-learn pandas"
   ]
  },
  {
   "cell_type": "code",
   "execution_count": 7,
   "id": "75ce71fc",
   "metadata": {
    "scrolled": true
   },
   "outputs": [
    {
     "name": "stdout",
     "output_type": "stream",
     "text": [
      "Step 1: Configuration set and libraries loaded.\n",
      "Reading file: ./archieve/train-images.idx3-ubyte...\n",
      "Reading file: ./archieve/train-labels.idx1-ubyte...\n",
      "Raw data loaded. Total samples: 60000.\n",
      "\n",
      "Step 2: Preprocessing and filtering for digits 0 and 1...\n",
      "Data filtered. Total binary samples (0s and 1s): 12665\n",
      "Data split: Training samples=10132, Testing samples=2533\n",
      "\n",
      "Step 3: Training the **Logistic Regression** Model...\n",
      "Training complete.\n",
      "\n",
      "--- Model Evaluation Results ---\n",
      "Overall Accuracy: **0.9984**\n",
      "Precision Score (for digit 1): 1.0000\n",
      "Recall Score (for digit 1): 0.9971\n",
      "\n",
      "--- Confusion Matrix ---\n",
      "          Predicted 0  Predicted 1\n",
      "Actual 0         1167            0\n",
      "Actual 1            4         1362\n"
     ]
    },
    {
     "name": "stderr",
     "output_type": "stream",
     "text": [
      "C:\\Users\\user\\anaconda3\\Lib\\site-packages\\sklearn\\linear_model\\_sag.py:350: ConvergenceWarning: The max_iter was reached which means the coef_ did not converge\n",
      "  warnings.warn(\n"
     ]
    },
    {
     "data": {
      "image/png": "[encoded data removed]",
      "text/plain": [
       "<Figure size 640x480 with 1 Axes>"
      ]
     },
     "metadata": {},
     "output_type": "display_data"
    },
    {
     "name": "stdout",
     "output_type": "stream",
     "text": [
      "\n",
      "Example Prediction: Actual label was 1, Model predicted 1.\n"
     ]
    }
   ],
   "source": [
    "# --- FULL WORKFLOW: Load IDX Files, Filter, Train Logistic Regression, and Evaluate ---\n",
    "\n",
    "import numpy as np\n",
    "import struct\n",
    "import os\n",
    "import matplotlib.pyplot as plt\n",
    "import pandas as pd\n",
    "from sklearn.model_selection import train_test_split\n",
    "from sklearn.linear_model import LogisticRegression\n",
    "from sklearn.metrics import accuracy_score, confusion_matrix, precision_score, recall_score\n",
    "\n",
    "# ==============================================================================\n",
    "# 1. Configuration and Data Loading Setup\n",
    "# ==============================================================================\n",
    "# IMPORTANT: Adjust 'DATA_PATH' if your 'archive' folder is elsewhere\n",
    "DATA_PATH = './archieve/' \n",
    "TRAIN_IMAGES_FILE = 'train-images.idx3-ubyte'\n",
    "TRAIN_LABELS_FILE = 'train-labels.idx1-ubyte'\n",
    "print(\"Step 1: Configuration set and libraries loaded.\")\n",
    "\n",
    "\n",
    "def load_mnist_idx(file_path, is_images):\n",
    "    \"\"\"Function to read the raw MNIST IDX files using the 'struct' library.\"\"\"\n",
    "    full_path = os.path.join(DATA_PATH, file_path)\n",
    "    print(f\"Reading file: {full_path}...\")\n",
    "    \n",
    "    try:\n",
    "        with open(full_path, 'rb') as f:\n",
    "            # Read magic number and dimensions (4i for images, 2i for labels)\n",
    "            header_format = '>4i' if is_images else '>2i'\n",
    "            header_size = 16 if is_images else 8\n",
    "            \n",
    "            # Use struct to unpack the binary header data\n",
    "            magic, *dims = struct.unpack(header_format, f.read(header_size))\n",
    "            \n",
    "            # Read the actual data (images are arrays, labels are single bytes)\n",
    "            data_dtype = np.uint8\n",
    "            data = np.frombuffer(f.read(), dtype=data_dtype)\n",
    "            \n",
    "            if is_images:\n",
    "                num_images, rows, cols = dims\n",
    "                return data.reshape(num_images, rows * cols)\n",
    "            else:\n",
    "                return data\n",
    "    except FileNotFoundError:\n",
    "        print(f\"\\nERROR: File not found at {full_path}. Check DATA_PATH and filenames.\")\n",
    "        raise\n",
    "    except Exception as e:\n",
    "        print(f\"An error occurred during file reading: {e}\")\n",
    "        raise\n",
    "\n",
    "# ==============================================================================\n",
    "# 2. Data Loading and Filtering\n",
    "# ==============================================================================\n",
    "\n",
    "# Load the data\n",
    "X = load_mnist_idx(TRAIN_IMAGES_FILE, is_images=True)\n",
    "y = load_mnist_idx(TRAIN_LABELS_FILE, is_images=False)\n",
    "print(f\"Raw data loaded. Total samples: {X.shape[0]}.\")\n",
    "\n",
    "print(\"\\nStep 2: Preprocessing and filtering for digits 0 and 1...\")\n",
    "\n",
    "# Preprocess: Scale features to 0-1 range\n",
    "X_scaled = X.astype(np.float32) / 255.0\n",
    "\n",
    "# Filter: Create a boolean mask to keep only digits 0 or 1\n",
    "y_labels = (y == 0) | (y == 1)\n",
    "X_binary = X_scaled[y_labels]\n",
    "y_binary = y[y_labels]\n",
    "\n",
    "print(f\"Data filtered. Total binary samples (0s and 1s): {X_binary.shape[0]}\")\n",
    "\n",
    "# ==============================================================================\n",
    "# 3. Model Training\n",
    "# ==============================================================================\n",
    "\n",
    "# Split the data\n",
    "X_train, X_test, y_train, y_test = train_test_split(\n",
    "    X_binary, y_binary, test_size=0.2, random_state=42\n",
    ")\n",
    "print(f\"Data split: Training samples={X_train.shape[0]}, Testing samples={X_test.shape[0]}\")\n",
    "\n",
    "print(\"\\nStep 3: Training the **Logistic Regression** Model...\")\n",
    "# Use 'saga' solver which handles L1/L2 regularization well, increase max_iter for convergence\n",
    "log_reg = LogisticRegression(solver='saga', C=1, max_iter=200, random_state=42, n_jobs=-1)\n",
    "log_reg.fit(X_train, y_train)\n",
    "print(\"Training complete.\")\n",
    "\n",
    "# ==============================================================================\n",
    "# 4. Prediction and Evaluation\n",
    "# ==============================================================================\n",
    "\n",
    "# Make predictions on the test set\n",
    "y_pred = log_reg.predict(X_test)\n",
    "\n",
    "# Calculate metrics\n",
    "accuracy = accuracy_score(y_test, y_pred)\n",
    "precision = precision_score(y_test, y_pred)\n",
    "recall = recall_score(y_test, y_pred)\n",
    "\n",
    "print(\"\\n--- Model Evaluation Results ---\")\n",
    "print(f\"Overall Accuracy: **{accuracy:.4f}**\")\n",
    "print(f\"Precision Score (for digit 1): {precision:.4f}\")\n",
    "print(f\"Recall Score (for digit 1): {recall:.4f}\")\n",
    "\n",
    "# Confusion Matrix\n",
    "cm = confusion_matrix(y_test, y_pred)\n",
    "cm_df = pd.DataFrame(\n",
    "    cm, \n",
    "    index=['Actual 0', 'Actual 1'], \n",
    "    columns=['Predicted 0', 'Predicted 1']\n",
    ")\n",
    "\n",
    "print(\"\\n--- Confusion Matrix ---\")\n",
    "print(cm_df)\n",
    "\n",
    "# ==============================================================================\n",
    "# 5. Visualization Example\n",
    "# ==============================================================================\n",
    "\n",
    "# Test a single prediction\n",
    "sample_index = 10 \n",
    "some_digit = X_test[sample_index]\n",
    "single_prediction = log_reg.predict(some_digit.reshape(1, -1))[0]\n",
    "\n",
    "plt.imshow(some_digit.reshape(28, 28), cmap=\"binary\")\n",
    "plt.title(f\"Predicted: {single_prediction}, Actual: {y_test[sample_index]}\")\n",
    "plt.axis(\"off\")\n",
    "plt.show()\n",
    "\n",
    "print(f\"\\nExample Prediction: Actual label was {y_test[sample_index]}, Model predicted {single_prediction}.\")"
   ]
  },
  {
   "cell_type": "code",
   "execution_count": 4,
   "id": "81a811f0",
   "metadata": {},
   "outputs": [
    {
     "name": "stdout",
     "output_type": "stream",
     "text": [
      "Step 5: Visualizing the 4 False Negatives (Actual 1, Predicted 0).\n",
      "Found 4 False Negative images.\n"
     ]
    },
    {
     "data": {
      "image/png": "[encoded data removed]",
      "text/plain": [
       "<Figure size 1200x300 with 4 Axes>"
      ]
     },
     "metadata": {},
     "output_type": "display_data"
    }
   ],
   "source": [
    "# --- CODE SNIPPET: Visualize the False Negatives ---\n",
    "\n",
    "print(\"Step 5: Visualizing the 4 False Negatives (Actual 1, Predicted 0).\")\n",
    "\n",
    "# 1. Identify False Negatives (FN):\n",
    "# Condition 1: Actual label is 1 (y_test == 1)\n",
    "# Condition 2: Predicted label is 0 (y_pred == 0)\n",
    "fn_mask = (y_test == 1) & (y_pred == 0)\n",
    "fn_indices = np.where(fn_mask)[0]\n",
    "\n",
    "print(f\"Found {len(fn_indices)} False Negative images.\")\n",
    "\n",
    "# 2. Plot the False Negative images\n",
    "fig, axes = plt.subplots(1, len(fn_indices), figsize=(12, 3))\n",
    "\n",
    "if len(fn_indices) > 0:\n",
    "    for i, idx in enumerate(fn_indices):\n",
    "        # Reshape the 784-pixel vector back into a 28x28 image\n",
    "        image = X_test[idx].reshape(28, 28)\n",
    "        \n",
    "        # Display the image\n",
    "        axes[i].imshow(image, cmap=\"binary\")\n",
    "        axes[i].set_title(f\"Index: {idx}\\n(Actual 1)\", fontsize=10)\n",
    "        axes[i].axis('off')\n",
    "\n",
    "    plt.suptitle(\"Images Misclassified as '0' (They are actually '1')\", fontsize=14)\n",
    "    plt.tight_layout(rect=[0, 0.03, 1, 0.95]) # Adjust layout for suptitle\n",
    "    plt.show()\n",
    "else:\n",
    "    print(\"No False Negatives found to plot!\")\n",
    "\n",
    "# --- End of Visualization Code ---"
   ]
  },
  {
   "cell_type": "code",
   "execution_count": 6,
   "id": "e51bdca3",
   "metadata": {},
   "outputs": [
    {
     "name": "stdout",
     "output_type": "stream",
     "text": [
      "Step 5: Visualizing the 4 False Negatives (Actual 1, Predicted 0).\n",
      "Found 4 False Negative images.\n"
     ]
    },
    {
     "data": {
      "image/png": "[encoded data removed]",
      "text/plain": [
       "<Figure size 1200x300 with 4 Axes>"
      ]
     },
     "metadata": {},
     "output_type": "display_data"
    }
   ],
   "source": [
    "# --- CODE SNIPPET: Visualize the False Negatives with Plotting Fix ---\n",
    "\n",
    "# This magic command forces Matplotlib to display plots inline in the notebook\n",
    "%matplotlib inline \n",
    "import matplotlib.pyplot as plt\n",
    "import numpy as np\n",
    "\n",
    "print(\"Step 5: Visualizing the 4 False Negatives (Actual 1, Predicted 0).\")\n",
    "\n",
    "# 1. Identify False Negatives (FN):\n",
    "# Condition 1: Actual label is 1 (y_test == 1)\n",
    "# Condition 2: Predicted label is 0 (y_pred == 0)\n",
    "fn_mask = (y_test == 1) & (y_pred == 0)\n",
    "fn_indices = np.where(fn_mask)[0]\n",
    "\n",
    "print(f\"Found {len(fn_indices)} False Negative images.\")\n",
    "\n",
    "# 2. Plot the False Negative images\n",
    "# We use len(fn_indices) to dynamically create the correct number of subplots\n",
    "fig, axes = plt.subplots(1, len(fn_indices), figsize=(12, 3))\n",
    "\n",
    "if len(fn_indices) > 0:\n",
    "    for i, idx in enumerate(fn_indices):\n",
    "        # Reshape the 784-pixel vector back into a 28x28 image\n",
    "        image = X_test[idx].reshape(28, 28)\n",
    "        \n",
    "        # Determine the correct subplot object (needed because axes is a single object if only one plot is made)\n",
    "        ax = axes[i] if len(fn_indices) > 1 else axes \n",
    "\n",
    "        # Display the image\n",
    "        ax.imshow(image, cmap=\"binary\")\n",
    "        ax.set_title(f\"Index: {idx}\\n(Actual 1)\", fontsize=10)\n",
    "        ax.axis('off')\n",
    "\n",
    "    plt.suptitle(\"Images Misclassified as '0' (They are actually '1')\", fontsize=14)\n",
    "    # Adjust layout to prevent titles from overlapping\n",
    "    plt.tight_layout(rect=[0, 0.03, 1, 0.95]) \n",
    "    plt.show() # Explicitly show the figure\n",
    "else:\n",
    "    print(\"No False Negatives found to plot!\")\n",
    "\n",
    "# --- End of Visualization Code ---"
   ]
  },
  {
   "cell_type": "code",
   "execution_count": null,
   "id": "561715db",
   "metadata": {},
   "outputs": [],
   "source": []
  }
 ],
 "metadata": {
  "kernelspec": {
   "display_name": "Python 3 (ipykernel)",
   "language": "python",
   "name": "python3"
  },
  "language_info": {
   "codemirror_mode": {
    "name": "ipython",
    "version": 3
   },
   "file_extension": ".py",
   "mimetype": "text/x-python",
   "name": "python",
   "nbconvert_exporter": "python",
   "pygments_lexer": "ipython3",
   "version": "3.11.4"
  }
 },
 "nbformat": 4,
 "nbformat_minor": 5
}
